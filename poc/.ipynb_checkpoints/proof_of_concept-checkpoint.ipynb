{
 "cells": [
  {
   "cell_type": "markdown",
   "id": "158bd5d6-2340-4645-902a-7be5b9d6b06a",
   "metadata": {},
   "source": [
    "### PROOF OF CONCEPT - Dragon Tiger Billboard of Compulsory Testing Notice (CTN)\n",
    "---\n",
    "Author: Jack Chan\n",
    "\n",
    "Last Update: 2022/08/27"
   ]
  },
  {
   "cell_type": "markdown",
   "id": "aee7c4d2-821c-4baf-8b20-9dfd30b00d87",
   "metadata": {},
   "source": [
    "### Download CTN from Centre for Health Protection (CHP)\n",
    "---"
   ]
  },
  {
   "cell_type": "code",
   "execution_count": 1,
   "id": "531081f9-d319-433c-bfb4-0a265a181b3d",
   "metadata": {},
   "outputs": [],
   "source": [
    "import os\n",
    "import requests\n",
    "from datetime import datetime\n",
    "from dateutil.relativedelta import relativedelta"
   ]
  },
  {
   "cell_type": "code",
   "execution_count": 2,
   "id": "972d7834-5754-41ba-bf38-c3a2cac69297",
   "metadata": {},
   "outputs": [
    {
     "name": "stdout",
     "output_type": "stream",
     "text": [
      "CTN will be downloaded from 14 January 2022 to 26 August 2022, for 225 days in total.\n"
     ]
    }
   ],
   "source": [
    "# define range of dates to download CTN PDFs\n",
    "date_start = datetime.strptime(\"20220114\", \"%Y%m%d\")\n",
    "date_end = datetime.today() + relativedelta(days=-1)\n",
    "\n",
    "# total number of dates to be downloaded\n",
    "outstanding_days = date_end - date_start\n",
    "outstanding_days = outstanding_days.days + 1\n",
    "\n",
    "prt_date_start = date_start.strftime('%d %B %Y')\n",
    "prt_date_end = date_end.strftime('%d %B %Y')\n",
    "print(\n",
    "    f\"CTN will be downloaded from {prt_date_start} to \" \\\n",
    "    f\"{prt_date_end}, for {outstanding_days} days in total.\"\n",
    ")"
   ]
  },
  {
   "cell_type": "code",
   "execution_count": 3,
   "id": "f8a036fb-f018-4bfa-8d50-86db908cd24d",
   "metadata": {},
   "outputs": [
    {
     "name": "stdout",
     "output_type": "stream",
     "text": [
      "CTN 'ctn_20220114.pdf' has been downloaded.\n"
     ]
    }
   ],
   "source": [
    "# instantiate input date and output file name\n",
    "input_date = \"20220114\"\n",
    "file_name = f\"ctn_{input_date}.pdf\"\n",
    "\n",
    "# request CTN from CHP website\n",
    "uri = f\"https://www.chp.gov.hk/files/pdf/{file_name}\"\n",
    "response = requests.get(uri)\n",
    "\n",
    "# cache CTN if the request has succeeded\n",
    "if response.status_code == 200:\n",
    "    with open(file_name, \"wb\") as file:\n",
    "        file.write(response.content)\n",
    "\n",
    "if file_name in os.listdir():\n",
    "    print(f\"CTN '{file_name}' has been downloaded.\")"
   ]
  },
  {
   "cell_type": "markdown",
   "id": "10fcf875-9f2f-4502-a082-8b9946ae3ee2",
   "metadata": {},
   "source": [
    "### Ingest and Wrangle CTN as Data Model\n",
    "---"
   ]
  },
  {
   "cell_type": "code",
   "execution_count": 4,
   "id": "3628207b-6b11-48f8-92bd-d054683a5f3b",
   "metadata": {},
   "outputs": [],
   "source": [
    "import re\n",
    "import tabula\n",
    "import pandas as pd"
   ]
  },
  {
   "cell_type": "code",
   "execution_count": 5,
   "id": "c2727dec-9d1a-41dc-ae41-9f955996aeb9",
   "metadata": {},
   "outputs": [
    {
     "data": {
      "text/html": [
       "<div>\n",
       "<style scoped>\n",
       "    .dataframe tbody tr th:only-of-type {\n",
       "        vertical-align: middle;\n",
       "    }\n",
       "\n",
       "    .dataframe tbody tr th {\n",
       "        vertical-align: top;\n",
       "    }\n",
       "\n",
       "    .dataframe thead th {\n",
       "        text-align: right;\n",
       "    }\n",
       "</style>\n",
       "<table border=\"1\" class=\"dataframe\">\n",
       "  <thead>\n",
       "    <tr style=\"text-align: right;\">\n",
       "      <th></th>\n",
       "      <th>1</th>\n",
       "      <th>2</th>\n",
       "      <th>0</th>\n",
       "    </tr>\n",
       "  </thead>\n",
       "  <tbody>\n",
       "    <tr>\n",
       "      <th>0</th>\n",
       "      <td>nan</td>\n",
       "      <td>nan</td>\n",
       "      <td>nan</td>\n",
       "    </tr>\n",
       "    <tr>\n",
       "      <th>1</th>\n",
       "      <td>指明地點\\rSpecified place</td>\n",
       "      <td>指明地點\\rSpecified place</td>\n",
       "      <td>nan</td>\n",
       "    </tr>\n",
       "    <tr>\n",
       "      <th>2</th>\n",
       "      <td>(視情況而定任何一個</td>\n",
       "      <td>[年年年年-月</td>\n",
       "      <td>nan</td>\n",
       "    </tr>\n",
       "    <tr>\n",
       "      <th>3</th>\n",
       "      <td>nan</td>\n",
       "      <td>期間及時段)</td>\n",
       "      <td>nan</td>\n",
       "    </tr>\n",
       "    <tr>\n",
       "      <th>4</th>\n",
       "      <td>nan</td>\n",
       "      <td>[年年年年-月月-日日]</td>\n",
       "      <td>nan</td>\n",
       "    </tr>\n",
       "  </tbody>\n",
       "</table>\n",
       "</div>"
      ],
      "text/plain": [
       "                       1                      2    0\n",
       "0                    nan                    nan  nan\n",
       "1  指明地點\\rSpecified place  指明地點\\rSpecified place  nan\n",
       "2             (視情況而定任何一個                [年年年年-月  nan\n",
       "3                    nan                 期間及時段)  nan\n",
       "4                    nan           [年年年年-月月-日日]  nan"
      ]
     },
     "execution_count": 5,
     "metadata": {},
     "output_type": "execute_result"
    }
   ],
   "source": [
    "# instantiate input file\n",
    "file_name = \"ctn_20220114.pdf\"\n",
    "\n",
    "# load PDF with tailor-made template\n",
    "pages = tabula.read_pdf_with_template(\n",
    "    file_name,\n",
    "    template_path=\"ctn_template.json\",\n",
    "    lattice=True,\n",
    "    pandas_options={'header': None}\n",
    ")\n",
    "\n",
    "# append pages into a single data frame\n",
    "df = pd.DataFrame()\n",
    "for page in pages:\n",
    "    page = page.astype(str)\n",
    "    # keep only columns with `Specified place`\n",
    "    dc = [page[col].str.contains(\"Specified place\").any() \\\n",
    "          for col in page.columns]\n",
    "    df = pd.concat([df, page.loc[:, dc]], ignore_index=True) \\\n",
    "        .astype(str)\n",
    "\n",
    "df.head()"
   ]
  },
  {
   "cell_type": "code",
   "execution_count": 6,
   "id": "5c5aaa1c-c558-4d19-948c-c90ae65e76c3",
   "metadata": {},
   "outputs": [
    {
     "data": {
      "text/html": [
       "<div>\n",
       "<style scoped>\n",
       "    .dataframe tbody tr th:only-of-type {\n",
       "        vertical-align: middle;\n",
       "    }\n",
       "\n",
       "    .dataframe tbody tr th {\n",
       "        vertical-align: top;\n",
       "    }\n",
       "\n",
       "    .dataframe thead th {\n",
       "        text-align: right;\n",
       "    }\n",
       "</style>\n",
       "<table border=\"1\" class=\"dataframe\">\n",
       "  <thead>\n",
       "    <tr style=\"text-align: right;\">\n",
       "      <th></th>\n",
       "      <th>1</th>\n",
       "      <th>2</th>\n",
       "      <th>0</th>\n",
       "    </tr>\n",
       "  </thead>\n",
       "  <tbody>\n",
       "    <tr>\n",
       "      <th>1</th>\n",
       "      <td>指明地點\\rSpecified place</td>\n",
       "      <td>指明地點\\rSpecified place</td>\n",
       "      <td>nan</td>\n",
       "    </tr>\n",
       "    <tr>\n",
       "      <th>2</th>\n",
       "      <td>(視情況而定任何一個</td>\n",
       "      <td>[年年年年-月</td>\n",
       "      <td>nan</td>\n",
       "    </tr>\n",
       "    <tr>\n",
       "      <th>3</th>\n",
       "      <td>nan</td>\n",
       "      <td>期間及時段)</td>\n",
       "      <td>nan</td>\n",
       "    </tr>\n",
       "    <tr>\n",
       "      <th>4</th>\n",
       "      <td>nan</td>\n",
       "      <td>[年年年年-月月-日日]</td>\n",
       "      <td>nan</td>\n",
       "    </tr>\n",
       "    <tr>\n",
       "      <th>12</th>\n",
       "      <td>佐敦廟街266號地下及\\r閣樓九龍咖喱屋\\rKowloon Curry House &amp;\\rB...</td>\n",
       "      <td>2022-01-03 12:00-14:00</td>\n",
       "      <td>nan</td>\n",
       "    </tr>\n",
       "  </tbody>\n",
       "</table>\n",
       "</div>"
      ],
      "text/plain": [
       "                                                    1                       2  \\\n",
       "1                               指明地點\\rSpecified place   指明地點\\rSpecified place   \n",
       "2                                          (視情況而定任何一個                 [年年年年-月   \n",
       "3                                                 nan                  期間及時段)   \n",
       "4                                                 nan            [年年年年-月月-日日]   \n",
       "12  佐敦廟街266號地下及\\r閣樓九龍咖喱屋\\rKowloon Curry House &\\rB...  2022-01-03 12:00-14:00   \n",
       "\n",
       "      0  \n",
       "1   nan  \n",
       "2   nan  \n",
       "3   nan  \n",
       "4   nan  \n",
       "12  nan  "
      ]
     },
     "execution_count": 6,
     "metadata": {},
     "output_type": "execute_result"
    }
   ],
   "source": [
    "# remove rows without non-ASCII (a.k.a. Chinese) characters\n",
    "# for keeping relevant records\n",
    "df_filter = pd.DataFrame()\n",
    "for col in df.columns:\n",
    "    df_merge = df.fillna(\"na\")[col] \\\n",
    "        .str.contains(r\"[^\\x00-\\x7F]\", regex=True)\n",
    "    df_filter = pd.concat([df_filter, df_merge], axis=1)\n",
    "df = df[df_filter.any(axis=1)]\n",
    "\n",
    "df.head()"
   ]
  },
  {
   "cell_type": "code",
   "execution_count": 7,
   "id": "6a94af05-aba6-400e-bc68-f58c0236e8f9",
   "metadata": {},
   "outputs": [
    {
     "data": {
      "text/html": [
       "<div>\n",
       "<style scoped>\n",
       "    .dataframe tbody tr th:only-of-type {\n",
       "        vertical-align: middle;\n",
       "    }\n",
       "\n",
       "    .dataframe tbody tr th {\n",
       "        vertical-align: top;\n",
       "    }\n",
       "\n",
       "    .dataframe thead th {\n",
       "        text-align: right;\n",
       "    }\n",
       "</style>\n",
       "<table border=\"1\" class=\"dataframe\">\n",
       "  <thead>\n",
       "    <tr style=\"text-align: right;\">\n",
       "      <th></th>\n",
       "      <th>1</th>\n",
       "      <th>2</th>\n",
       "      <th>0</th>\n",
       "    </tr>\n",
       "  </thead>\n",
       "  <tbody>\n",
       "    <tr>\n",
       "      <th>13</th>\n",
       "      <td>銅鑼灣軒尼詩道500號\\r希慎廣場11樓美食廣場\\rFood Court, 11/F, Hy...</td>\n",
       "      <td>NaN</td>\n",
       "      <td>NaN</td>\n",
       "    </tr>\n",
       "    <tr>\n",
       "      <th>25</th>\n",
       "      <td>銅鑼灣恩平道28 號利\\r園二期10樓如新生活體\\r驗館\\rNUSKINPlaza,10/F...</td>\n",
       "      <td>NaN</td>\n",
       "      <td>NaN</td>\n",
       "    </tr>\n",
       "    <tr>\n",
       "      <th>26</th>\n",
       "      <td>青衣青敬路33 號青衣\\r城一期 3樓 301號鋪肯\\r德基\\rKFC, Shop 301,...</td>\n",
       "      <td>NaN</td>\n",
       "      <td>NaN</td>\n",
       "    </tr>\n",
       "    <tr>\n",
       "      <th>27</th>\n",
       "      <td>將軍澳唐德街 1 號將軍\\r澳廣場 1 樓 1-004 號鋪\\r太興\\rTaiHing,Sh...</td>\n",
       "      <td>NaN</td>\n",
       "      <td>NaN</td>\n",
       "    </tr>\n",
       "  </tbody>\n",
       "</table>\n",
       "</div>"
      ],
      "text/plain": [
       "                                                    1    2    0\n",
       "13  銅鑼灣軒尼詩道500號\\r希慎廣場11樓美食廣場\\rFood Court, 11/F, Hy...  NaN  NaN\n",
       "25  銅鑼灣恩平道28 號利\\r園二期10樓如新生活體\\r驗館\\rNUSKINPlaza,10/F...  NaN  NaN\n",
       "26  青衣青敬路33 號青衣\\r城一期 3樓 301號鋪肯\\r德基\\rKFC, Shop 301,...  NaN  NaN\n",
       "27  將軍澳唐德街 1 號將軍\\r澳廣場 1 樓 1-004 號鋪\\r太興\\rTaiHing,Sh...  NaN  NaN"
      ]
     },
     "execution_count": 7,
     "metadata": {},
     "output_type": "execute_result"
    }
   ],
   "source": [
    "# reference sub-districts for valid address\n",
    "subdistricts = pd.read_excel(\"areas_and_districts.xlsx\")\n",
    "subdistricts = subdistricts[\"subdistricts\"] \\\n",
    "    .str.replace(r\"\\s\", \"\", regex=True) \\\n",
    "    .str.upper() \\\n",
    "    .unique()\n",
    "\n",
    "# remove cells without sub-districts\n",
    "match = re.compile(r\"\\r|\\s\")\n",
    "df_filter = pd.DataFrame()\n",
    "for col in df.columns:\n",
    "    df_merge = df[col].apply(\n",
    "        lambda y: any(\n",
    "            subdistrict in match.sub(\"\", y.upper()) \\\n",
    "            for subdistrict in subdistricts\n",
    "        )\n",
    "    )\n",
    "    df_filter = pd.concat([df_filter, df_merge], axis=1)\n",
    "df = df[df_filter]\n",
    "\n",
    "df[df.notna().any(axis=1)].head()"
   ]
  },
  {
   "cell_type": "code",
   "execution_count": 8,
   "id": "712306bf-bebc-4472-9f73-c2d1a20cd6be",
   "metadata": {},
   "outputs": [
    {
     "data": {
      "text/plain": [
       "13    銅鑼灣軒尼詩道500號希慎廣場11樓美食廣場FoodCourt,11/F,HysanPlac...\n",
       "25    銅鑼灣恩平道28號利園二期10樓如新生活體驗館NUSKINPlaza,10/F,LeeGar...\n",
       "26    青衣青敬路33號青衣城一期3樓301號鋪肯德基KFC,Shop301,Level3,Mari...\n",
       "27    將軍澳唐德街1號將軍澳廣場1樓1-004號鋪太興TaiHing,Shop1-004,1/F,...\n",
       "dtype: object"
      ]
     },
     "execution_count": 8,
     "metadata": {},
     "output_type": "execute_result"
    }
   ],
   "source": [
    "# combine row values and hard code a bit\n",
    "# for removing unnecessary data\n",
    "pattern = r\"\\r|\\s|nan|Specified place\"\n",
    "df = df.apply(lambda y: \"\".join(y.dropna()), axis=1) \\\n",
    "    .str.replace(pattern, \"\", regex=True)\n",
    "\n",
    "df[df.str.len() != 0].head()"
   ]
  },
  {
   "cell_type": "code",
   "execution_count": 9,
   "id": "daa05402-6fe4-4a9f-bfc1-13b65a4071d6",
   "metadata": {},
   "outputs": [
    {
     "data": {
      "text/plain": [
       "0    銅鑼灣軒尼詩道500號希慎廣場11樓美食廣場FoodCourt,11/F,HysanPlac...\n",
       "1    銅鑼灣恩平道28號利園二期10樓如新生活體驗館NUSKINPlaza,10/F,LeeGar...\n",
       "2    青衣青敬路33號青衣城一期3樓301號鋪肯德基KFC,Shop301,Level3,Mari...\n",
       "3    將軍澳唐德街1號將軍澳廣場1樓1-004號鋪太興TaiHing,Shop1-004,1/F,...\n",
       "dtype: object"
      ]
     },
     "execution_count": 9,
     "metadata": {},
     "output_type": "execute_result"
    }
   ],
   "source": [
    "# remove rows without English characters\n",
    "# for part of address component\n",
    "df_filter = df.str.contains(r\"[A-Za-z]\", regex=True)\n",
    "df = df[df_filter].reset_index(drop=True)\n",
    "\n",
    "df.head()"
   ]
  },
  {
   "cell_type": "code",
   "execution_count": 10,
   "id": "14b6086d-01b9-4b48-8d76-7ed779fd38b3",
   "metadata": {},
   "outputs": [
    {
     "data": {
      "text/html": [
       "<div>\n",
       "<style scoped>\n",
       "    .dataframe tbody tr th:only-of-type {\n",
       "        vertical-align: middle;\n",
       "    }\n",
       "\n",
       "    .dataframe tbody tr th {\n",
       "        vertical-align: top;\n",
       "    }\n",
       "\n",
       "    .dataframe thead th {\n",
       "        text-align: right;\n",
       "    }\n",
       "</style>\n",
       "<table border=\"1\" class=\"dataframe\">\n",
       "  <thead>\n",
       "    <tr style=\"text-align: right;\">\n",
       "      <th></th>\n",
       "      <th>specified_place</th>\n",
       "    </tr>\n",
       "  </thead>\n",
       "  <tbody>\n",
       "    <tr>\n",
       "      <th>0</th>\n",
       "      <td>銅鑼灣軒尼詩道500號希慎廣場11樓美食廣場</td>\n",
       "    </tr>\n",
       "    <tr>\n",
       "      <th>1</th>\n",
       "      <td>銅鑼灣恩平道28號利園二期10樓如新生活體驗館</td>\n",
       "    </tr>\n",
       "    <tr>\n",
       "      <th>2</th>\n",
       "      <td>青衣青敬路33號青衣城一期3樓301號鋪肯德基</td>\n",
       "    </tr>\n",
       "    <tr>\n",
       "      <th>3</th>\n",
       "      <td>將軍澳唐德街1號將軍澳廣場1樓1-004號鋪太興</td>\n",
       "    </tr>\n",
       "  </tbody>\n",
       "</table>\n",
       "</div>"
      ],
      "text/plain": [
       "            specified_place\n",
       "0    銅鑼灣軒尼詩道500號希慎廣場11樓美食廣場\n",
       "1   銅鑼灣恩平道28號利園二期10樓如新生活體驗館\n",
       "2   青衣青敬路33號青衣城一期3樓301號鋪肯德基\n",
       "3  將軍澳唐德街1號將軍澳廣場1樓1-004號鋪太興"
      ]
     },
     "execution_count": 10,
     "metadata": {},
     "output_type": "execute_result"
    }
   ],
   "source": [
    "# (hard coded) remove unexpected characters\n",
    "# to keep Chinese Address for later geocode querying\n",
    "df = df.str.replace(r\"é|â|’||–\", \"\", regex=True) \\\n",
    "    .str.extract(r\"(.*[^\\x00-\\x7F]\\)?)\")\n",
    "df.columns = [\"specified_place\"]\n",
    "\n",
    "df.head()"
   ]
  },
  {
   "cell_type": "markdown",
   "id": "3353c267-d527-4693-93a9-8cbc462c199d",
   "metadata": {},
   "source": [
    "### Query Geocode for Specified Place\n",
    "---"
   ]
  },
  {
   "cell_type": "code",
   "execution_count": 11,
   "id": "2ef2705c-fcfd-4833-83c1-76cec9793d8d",
   "metadata": {},
   "outputs": [],
   "source": [
    "from AddressParser import Address"
   ]
  },
  {
   "cell_type": "code",
   "execution_count": 12,
   "id": "259a4c32-2744-480a-a22b-b5b210708ac4",
   "metadata": {},
   "outputs": [],
   "source": [
    "# instantiate input address\n",
    "address = \"銅鑼灣軒尼詩道500號希慎廣場11樓美食廣場\"\n",
    "\n",
    "# query geographic information\n",
    "ad = Address(address)\n",
    "try:\n",
    "    result = ad.ParseAddress()\n",
    "except Exception as e:\n",
    "    # for 'NoneType' object is not iterable\n",
    "    result = {\n",
    "        \"eng\": {},\n",
    "        \"geo\": {},\n",
    "    }"
   ]
  },
  {
   "cell_type": "code",
   "execution_count": 13,
   "id": "a2c02a53-1a6b-45ba-811a-df955295480f",
   "metadata": {},
   "outputs": [
    {
     "data": {
      "text/plain": [
       "{'region': 'HK',\n",
       " 'district': 'WAN CHAI DISTRICT',\n",
       " 'latitude': '22.27977',\n",
       " 'longitude': '114.1838'}"
      ]
     },
     "metadata": {},
     "output_type": "display_data"
    }
   ],
   "source": [
    "# get geographic information\n",
    "geo_info_dict = {\n",
    "    \"region\": result[\"eng\"].get(\"Region\", None),\n",
    "    \"district\": result[\"eng\"].get(\"EngDistrict\", {}) \\\n",
    "        .get(\"DcDistrict\", None),\n",
    "}\n",
    "\n",
    "# get geocode\n",
    "geocode_dict = {\n",
    "    \"latitude\": result[\"geo\"].get(\"Latitude\", None),\n",
    "    \"longitude\": result[\"geo\"].get(\"Longitude\", None),\n",
    "}\n",
    "\n",
    "# combine geographic information\n",
    "out_dict = {}\n",
    "out_dict.update(geo_info_dict)\n",
    "out_dict.update(geocode_dict)\n",
    "\n",
    "display(out_dict)"
   ]
  },
  {
   "cell_type": "code",
   "execution_count": 14,
   "id": "d5621359-9406-41bc-8d73-aa439a08b655",
   "metadata": {},
   "outputs": [
    {
     "data": {
      "text/html": [
       "<div>\n",
       "<style scoped>\n",
       "    .dataframe tbody tr th:only-of-type {\n",
       "        vertical-align: middle;\n",
       "    }\n",
       "\n",
       "    .dataframe tbody tr th {\n",
       "        vertical-align: top;\n",
       "    }\n",
       "\n",
       "    .dataframe thead th {\n",
       "        text-align: right;\n",
       "    }\n",
       "</style>\n",
       "<table border=\"1\" class=\"dataframe\">\n",
       "  <thead>\n",
       "    <tr style=\"text-align: right;\">\n",
       "      <th></th>\n",
       "      <th>region</th>\n",
       "      <th>district</th>\n",
       "      <th>latitude</th>\n",
       "      <th>longitude</th>\n",
       "      <th>specified_place</th>\n",
       "    </tr>\n",
       "  </thead>\n",
       "  <tbody>\n",
       "    <tr>\n",
       "      <th>0</th>\n",
       "      <td>HK</td>\n",
       "      <td>WAN CHAI DISTRICT</td>\n",
       "      <td>22.27977</td>\n",
       "      <td>114.1838</td>\n",
       "      <td>銅鑼灣軒尼詩道500號希慎廣場11樓美食廣場</td>\n",
       "    </tr>\n",
       "  </tbody>\n",
       "</table>\n",
       "</div>"
      ],
      "text/plain": [
       "  region           district  latitude longitude         specified_place\n",
       "0     HK  WAN CHAI DISTRICT  22.27977  114.1838  銅鑼灣軒尼詩道500號希慎廣場11樓美食廣場"
      ]
     },
     "execution_count": 14,
     "metadata": {},
     "output_type": "execute_result"
    }
   ],
   "source": [
    "# convert geographic information into data frame\n",
    "# for joining to CTN\n",
    "df_parse = pd.DataFrame.from_dict(out_dict, orient='index').T\n",
    "df_parse[\"specified_place\"] = address\n",
    "\n",
    "df_parse.head()"
   ]
  },
  {
   "cell_type": "code",
   "execution_count": null,
   "id": "6796c588-c5f2-43e6-baa2-e3c0f9946cef",
   "metadata": {},
   "outputs": [],
   "source": []
  }
 ],
 "metadata": {
  "kernelspec": {
   "display_name": "Python 3 (ipykernel)",
   "language": "python",
   "name": "python3"
  },
  "language_info": {
   "codemirror_mode": {
    "name": "ipython",
    "version": 3
   },
   "file_extension": ".py",
   "mimetype": "text/x-python",
   "name": "python",
   "nbconvert_exporter": "python",
   "pygments_lexer": "ipython3",
   "version": "3.8.13"
  }
 },
 "nbformat": 4,
 "nbformat_minor": 5
}
