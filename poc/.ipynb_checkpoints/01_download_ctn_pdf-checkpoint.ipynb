{
 "cells": [
  {
   "cell_type": "markdown",
   "id": "debbcba9-1548-4b18-981d-e605684ae874",
   "metadata": {},
   "source": [
    "### 01. Proof of Concept — Downloading Compulsory Testing Notice from Centre for Health Protection\n",
    "---\n",
    "Author: Jack Chan\n",
    "\n",
    "Last Update: 2022/08/25"
   ]
  },
  {
   "cell_type": "code",
   "execution_count": null,
   "id": "b071568a-66e8-4f15-8b4b-da5e7fe970c1",
   "metadata": {},
   "outputs": [],
   "source": [
    "import os\n",
    "import re\n",
    "import requests\n",
    "from datetime import datetime\n",
    "from dateutil.relativedelta import relativedelta"
   ]
  },
  {
   "cell_type": "code",
   "execution_count": null,
   "id": "1f6909a7-e416-4b09-9316-4ccee60f2be7",
   "metadata": {},
   "outputs": [],
   "source": [
    "date = \"20220114\"\n",
    "uri = f\"https://www.chp.gov.hk/files/pdf/ctn_{date}.pdf\""
   ]
  },
  {
   "cell_type": "code",
   "execution_count": null,
   "id": "2f5a6124-e0f4-42c2-9230-249a25df2c70",
   "metadata": {},
   "outputs": [],
   "source": [
    "response = requests.get(url)\n",
    "\n",
    "if response.status_code == 200:\n",
    "    with open(f\"ctn_{date}.pdf\", \"wb\") as file:\n",
    "        file.write(response.content)"
   ]
  },
  {
   "cell_type": "code",
   "execution_count": null,
   "id": "f544a3c4-e1d6-47b6-9d5f-f1016b2e2aa7",
   "metadata": {},
   "outputs": [],
   "source": []
  },
  {
   "cell_type": "code",
   "execution_count": null,
   "id": "ff9146b8-c4e5-4959-809e-9528b3a17c40",
   "metadata": {},
   "outputs": [],
   "source": []
  },
  {
   "cell_type": "code",
   "execution_count": null,
   "id": "48a047ec-4fb2-45a3-836b-f13fe874af78",
   "metadata": {},
   "outputs": [],
   "source": []
  },
  {
   "cell_type": "code",
   "execution_count": null,
   "id": "3f9a77e6-f51c-40ae-a2f3-737f3bd8128c",
   "metadata": {},
   "outputs": [],
   "source": []
  }
 ],
 "metadata": {
  "kernelspec": {
   "display_name": "Python 3 (ipykernel)",
   "language": "python",
   "name": "python3"
  },
  "language_info": {
   "codemirror_mode": {
    "name": "ipython",
    "version": 3
   },
   "file_extension": ".py",
   "mimetype": "text/x-python",
   "name": "python",
   "nbconvert_exporter": "python",
   "pygments_lexer": "ipython3",
   "version": "3.8.13"
  }
 },
 "nbformat": 4,
 "nbformat_minor": 5
}
