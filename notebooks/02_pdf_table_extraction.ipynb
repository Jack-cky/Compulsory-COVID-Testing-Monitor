{
 "cells": [
  {
   "cell_type": "code",
   "execution_count": null,
   "id": "56c863e1-c8a0-475f-adbc-3e8b720cea30",
   "metadata": {},
   "outputs": [],
   "source": [
    "import os\n",
    "from dotenv import load_dotenv\n",
    "from adobe.pdfservices.operation.auth.service_principal_credentials import ServicePrincipalCredentials\n",
    "from adobe.pdfservices.operation.pdf_services import PDFServices\n",
    "from adobe.pdfservices.operation.pdf_services_media_type import PDFServicesMediaType\n",
    "from adobe.pdfservices.operation.pdfjobs.jobs.extract_pdf_job import ExtractPDFJob\n",
    "from adobe.pdfservices.operation.pdfjobs.params.extract_pdf.extract_element_type import ExtractElementType\n",
    "from adobe.pdfservices.operation.pdfjobs.params.extract_pdf.extract_pdf_params import ExtractPDFParams\n",
    "from adobe.pdfservices.operation.pdfjobs.result.extract_pdf_result import ExtractPDFResult\n",
    "\n",
    "\n",
    "load_dotenv(\"../config/.env\")"
   ]
  },
  {
   "cell_type": "code",
   "execution_count": null,
   "id": "86ae1170-2df8-44b8-bfd6-6a409ada6f6c",
   "metadata": {},
   "outputs": [],
   "source": [
    "# define Services instance\n",
    "credentials = ServicePrincipalCredentials(\n",
    "    client_id=os.getenv(\"CLIENT_ID\"),\n",
    "    client_secret=os.getenv(\"CLIENT_SECRET\"),\n",
    ")\n",
    "\n",
    "pdf_services = PDFServices(credentials=credentials)"
   ]
  },
  {
   "cell_type": "code",
   "execution_count": null,
   "id": "3f40cec1-40a0-4e7d-aa2e-650ed7725fa1",
   "metadata": {},
   "outputs": [],
   "source": [
    "# read PDF\n",
    "with open(\"../data/ctn_20220111.pdf\", \"rb\") as file:\n",
    "    input_stream = file.read()"
   ]
  },
  {
   "cell_type": "code",
   "execution_count": null,
   "id": "6b831364-5d70-4de0-808e-0fbc207d2fe5",
   "metadata": {},
   "outputs": [],
   "source": [
    "# set input PDF\n",
    "input_asset = pdf_services.upload(\n",
    "    input_stream=input_stream,\n",
    "    mime_type=PDFServicesMediaType.PDF,\n",
    ")\n",
    "\n",
    "# set desire elements\n",
    "extract_pdf_params = ExtractPDFParams(\n",
    "    elements_to_extract=[ExtractElementType.TABLES],\n",
    ")\n",
    "\n",
    "# define job instance\n",
    "job_extract = ExtractPDFJob(\n",
    "    input_asset=input_asset,\n",
    "    extract_pdf_params=extract_pdf_params,\n",
    ")"
   ]
  },
  {
   "cell_type": "code",
   "execution_count": null,
   "id": "e9525e49-3d8b-4d2e-ac61-17f9f0cba0f5",
   "metadata": {},
   "outputs": [],
   "source": [
    "# submit extraction job\n",
    "location = pdf_services.submit(job_extract)\n",
    "response = pdf_services.get_job_result(\n",
    "    location,\n",
    "    ExtractPDFResult,\n",
    ")\n",
    "\n",
    "# get resulting asserts\n",
    "asset_result = response.get_result().get_resource()\n",
    "asset_stream = pdf_services.get_content(asset_result)"
   ]
  },
  {
   "cell_type": "code",
   "execution_count": null,
   "id": "d2c091a0-2fde-4f27-92bd-46c328740156",
   "metadata": {},
   "outputs": [],
   "source": [
    "# cache extraction result\n",
    "with open(\"../data/ctn_20220111.zip\", \"wb\") as file:\n",
    "    file.write(asset_stream.get_input_stream())"
   ]
  }
 ],
 "metadata": {
  "kernelspec": {
   "display_name": "Python 3 (ipykernel)",
   "language": "python",
   "name": "python3"
  },
  "language_info": {
   "codemirror_mode": {
    "name": "ipython",
    "version": 3
   },
   "file_extension": ".py",
   "mimetype": "text/x-python",
   "name": "python",
   "nbconvert_exporter": "python",
   "pygments_lexer": "ipython3",
   "version": "3.10.14"
  }
 },
 "nbformat": 4,
 "nbformat_minor": 5
}
