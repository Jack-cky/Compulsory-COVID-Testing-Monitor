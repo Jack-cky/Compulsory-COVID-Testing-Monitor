{
 "cells": [
  {
   "cell_type": "code",
   "execution_count": null,
   "id": "2632cf97-1adb-4860-8875-1e955cc13f28",
   "metadata": {},
   "outputs": [],
   "source": [
    "from AddressParser import Address"
   ]
  },
  {
   "cell_type": "code",
   "execution_count": null,
   "id": "7dfd936a-211f-4afa-9090-2af43a9885f5",
   "metadata": {},
   "outputs": [],
   "source": [
    "# specify query address\n",
    "address = \"香港新界掃管笏管青路2號愛琴海岸地下 3C號鋪 Fusion by PARKnSHOP\""
   ]
  },
  {
   "cell_type": "code",
   "execution_count": null,
   "id": "9de36b35-3ebf-4c14-8c4c-612fd72b8ab7",
   "metadata": {},
   "outputs": [],
   "source": [
    "# query geographic information\n",
    "ad = Address(address)\n",
    "result = ad.ParseAddress()"
   ]
  }
 ],
 "metadata": {
  "kernelspec": {
   "display_name": "Python 3 (ipykernel)",
   "language": "python",
   "name": "python3"
  },
  "language_info": {
   "codemirror_mode": {
    "name": "ipython",
    "version": 3
   },
   "file_extension": ".py",
   "mimetype": "text/x-python",
   "name": "python",
   "nbconvert_exporter": "python",
   "pygments_lexer": "ipython3",
   "version": "3.10.14"
  }
 },
 "nbformat": 4,
 "nbformat_minor": 5
}
