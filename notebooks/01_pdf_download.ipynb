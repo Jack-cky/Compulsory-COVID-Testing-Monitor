{
 "cells": [
  {
   "cell_type": "code",
   "execution_count": null,
   "id": "c4a85bf1-766e-4c0d-932b-95bd3258d1ce",
   "metadata": {},
   "outputs": [],
   "source": [
    "import requests"
   ]
  },
  {
   "cell_type": "code",
   "execution_count": null,
   "id": "a93d9466-785e-4958-89f6-c169d8b0cb81",
   "metadata": {},
   "outputs": [],
   "source": [
    "# specifiy CTN download URL\n",
    "url = \"https://www.chp.gov.hk/files/pdf/ctn_20220111.pdf\""
   ]
  },
  {
   "cell_type": "code",
   "execution_count": null,
   "id": "062dd9ee-a6fa-4cb6-8767-4347623d0a02",
   "metadata": {},
   "outputs": [],
   "source": [
    "# request CTN from CHP website\n",
    "response = requests.get(url)"
   ]
  },
  {
   "cell_type": "code",
   "execution_count": null,
   "id": "0382bf5d-168a-4b06-8430-19e1f6b093a0",
   "metadata": {},
   "outputs": [],
   "source": [
    "# cache CTN pdf\n",
    "with open(f\"../data/ctn_20220111.pdf\", \"wb\") as file:\n",
    "    file.write(response.content)"
   ]
  }
 ],
 "metadata": {
  "kernelspec": {
   "display_name": "Python 3 (ipykernel)",
   "language": "python",
   "name": "python3"
  },
  "language_info": {
   "codemirror_mode": {
    "name": "ipython",
    "version": 3
   },
   "file_extension": ".py",
   "mimetype": "text/x-python",
   "name": "python",
   "nbconvert_exporter": "python",
   "pygments_lexer": "ipython3",
   "version": "3.10.14"
  }
 },
 "nbformat": 4,
 "nbformat_minor": 5
}
